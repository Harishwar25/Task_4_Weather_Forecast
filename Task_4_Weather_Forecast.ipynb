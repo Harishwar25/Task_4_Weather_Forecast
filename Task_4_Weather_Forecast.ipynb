{
 "cells": [
  {
   "cell_type": "code",
   "execution_count": 1,
   "id": "ac33ac49",
   "metadata": {},
   "outputs": [
    {
     "name": "stdout",
     "output_type": "stream",
     "text": [
      "Welcome to the Weather Forecast App!\n",
      "Enter the name of a city or a zip code: 400708\n",
      "Error: Invalid API key. Please see https://openweathermap.org/faq#error401 for more info.\n",
      "Failed to retrieve weather data.\n"
     ]
    }
   ],
   "source": [
    "import requests\n",
    "\n",
    "def get_weather(api_key, location):\n",
    "    base_url = \"http://api.openweathermap.org/data/2.5/weather\"\n",
    "    params = {\n",
    "        \"q\": location,\n",
    "        \"appid\": api_key,\n",
    "        \"units\": \"metric\",  # You can change this to \"imperial\" for Fahrenheit\n",
    "    }\n",
    "\n",
    "    try:\n",
    "        response = requests.get(base_url, params=params)\n",
    "        data = response.json()\n",
    "\n",
    "        if response.status_code == 200:\n",
    "            return data\n",
    "        else:\n",
    "            print(f\"Error: {data['message']}\")\n",
    "            return None\n",
    "    except requests.RequestException as e:\n",
    "        print(f\"Error: {e}\")\n",
    "        return None\n",
    "\n",
    "def display_weather(weather_data):\n",
    "    if weather_data:\n",
    "        print(\"\\nCurrent Weather:\")\n",
    "        print(f\"City: {weather_data['name']}\")\n",
    "        print(f\"Temperature: {weather_data['main']['temp']}°C\")\n",
    "        print(f\"Humidity: {weather_data['main']['humidity']}%\")\n",
    "        print(f\"Wind Speed: {weather_data['wind']['speed']} m/s\")\n",
    "        print(f\"Description: {weather_data['weather'][0]['description']}\")\n",
    "    else:\n",
    "        print(\"Failed to retrieve weather data.\")\n",
    "\n",
    "def main():\n",
    "    print(\"Welcome to the Weather Forecast App!\")\n",
    "\n",
    "    api_key = \"YOUR_OPENWEATHERMAP_API_KEY\"  # Replace with your actual API key\n",
    "    location = input(\"Enter the name of a city or a zip code: \")\n",
    "\n",
    "    weather_data = get_weather(api_key, location)\n",
    "\n",
    "    display_weather(weather_data)\n",
    "\n",
    "if __name__ == \"__main__\":\n",
    "    main()"
   ]
  },
  {
   "cell_type": "code",
   "execution_count": null,
   "id": "6506f6e5",
   "metadata": {},
   "outputs": [],
   "source": []
  }
 ],
 "metadata": {
  "kernelspec": {
   "display_name": "Python 3 (ipykernel)",
   "language": "python",
   "name": "python3"
  },
  "language_info": {
   "codemirror_mode": {
    "name": "ipython",
    "version": 3
   },
   "file_extension": ".py",
   "mimetype": "text/x-python",
   "name": "python",
   "nbconvert_exporter": "python",
   "pygments_lexer": "ipython3",
   "version": "3.11.5"
  }
 },
 "nbformat": 4,
 "nbformat_minor": 5
}
